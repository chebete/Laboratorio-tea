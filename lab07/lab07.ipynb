{
 "cells": [
  {
   "cell_type": "code",
   "execution_count": 1,
   "id": "8d42ee36",
   "metadata": {},
   "outputs": [],
   "source": [
    "# Importando librerias pandas y matplotlib"
   ]
  },
  {
   "cell_type": "code",
   "execution_count": 44,
   "id": "83f0cbce",
   "metadata": {},
   "outputs": [],
   "source": [
    "import pandas as pd"
   ]
  },
  {
   "cell_type": "code",
   "execution_count": 45,
   "id": "adf5e658",
   "metadata": {},
   "outputs": [],
   "source": [
    "from matplotlib import pyplot as plt"
   ]
  },
  {
   "cell_type": "code",
   "execution_count": 46,
   "id": "35d917ef",
   "metadata": {},
   "outputs": [],
   "source": [
    "# Subiendo fuente de datos"
   ]
  },
  {
   "cell_type": "code",
   "execution_count": 47,
   "id": "a117034c",
   "metadata": {},
   "outputs": [],
   "source": [
    "v4 = pd.read_csv(\"v4.csv\")"
   ]
  },
  {
   "cell_type": "code",
   "execution_count": 48,
   "id": "fc3ae705",
   "metadata": {},
   "outputs": [],
   "source": [
    "#dataframe"
   ]
  },
  {
   "cell_type": "code",
   "execution_count": 49,
   "id": "e62cbc2a",
   "metadata": {},
   "outputs": [
    {
     "data": {
      "text/html": [
       "<div>\n",
       "<style scoped>\n",
       "    .dataframe tbody tr th:only-of-type {\n",
       "        vertical-align: middle;\n",
       "    }\n",
       "\n",
       "    .dataframe tbody tr th {\n",
       "        vertical-align: top;\n",
       "    }\n",
       "\n",
       "    .dataframe thead th {\n",
       "        text-align: right;\n",
       "    }\n",
       "</style>\n",
       "<table border=\"1\" class=\"dataframe\">\n",
       "  <thead>\n",
       "    <tr style=\"text-align: right;\">\n",
       "      <th></th>\n",
       "      <th>Edad</th>\n",
       "      <th>Estatura</th>\n",
       "      <th>Sexo</th>\n",
       "      <th>Peso</th>\n",
       "      <th>Ano</th>\n",
       "    </tr>\n",
       "  </thead>\n",
       "  <tbody>\n",
       "    <tr>\n",
       "      <th>0</th>\n",
       "      <td>18 a 22 Anos</td>\n",
       "      <td>1.62</td>\n",
       "      <td>Femenino</td>\n",
       "      <td>114</td>\n",
       "      <td>Segundo Ano</td>\n",
       "    </tr>\n",
       "    <tr>\n",
       "      <th>1</th>\n",
       "      <td>18 a 22 Anos</td>\n",
       "      <td>1.90</td>\n",
       "      <td>Masculino</td>\n",
       "      <td>210</td>\n",
       "      <td>Segundo Ano</td>\n",
       "    </tr>\n",
       "    <tr>\n",
       "      <th>2</th>\n",
       "      <td>18 a 22 Anos</td>\n",
       "      <td>1.75</td>\n",
       "      <td>Masculino</td>\n",
       "      <td>133</td>\n",
       "      <td>Segundo Ano</td>\n",
       "    </tr>\n",
       "    <tr>\n",
       "      <th>3</th>\n",
       "      <td>18 a 22 Anos</td>\n",
       "      <td>1.60</td>\n",
       "      <td>Femenino</td>\n",
       "      <td>130</td>\n",
       "      <td>Segundo Ano</td>\n",
       "    </tr>\n",
       "    <tr>\n",
       "      <th>4</th>\n",
       "      <td>18 a 22 Anos</td>\n",
       "      <td>1.75</td>\n",
       "      <td>Masculino</td>\n",
       "      <td>155</td>\n",
       "      <td>Segundo Ano</td>\n",
       "    </tr>\n",
       "    <tr>\n",
       "      <th>...</th>\n",
       "      <td>...</td>\n",
       "      <td>...</td>\n",
       "      <td>...</td>\n",
       "      <td>...</td>\n",
       "      <td>...</td>\n",
       "    </tr>\n",
       "    <tr>\n",
       "      <th>78</th>\n",
       "      <td>18 a 22 Anos</td>\n",
       "      <td>1.52</td>\n",
       "      <td>Femenino</td>\n",
       "      <td>122</td>\n",
       "      <td>Segundo Ano</td>\n",
       "    </tr>\n",
       "    <tr>\n",
       "      <th>79</th>\n",
       "      <td>18 a 22 Anos</td>\n",
       "      <td>1.69</td>\n",
       "      <td>Masculino</td>\n",
       "      <td>135</td>\n",
       "      <td>Segundo Ano</td>\n",
       "    </tr>\n",
       "    <tr>\n",
       "      <th>80</th>\n",
       "      <td>18 a 22 Anos</td>\n",
       "      <td>1.56</td>\n",
       "      <td>Femenino</td>\n",
       "      <td>130</td>\n",
       "      <td>Segundo Ano</td>\n",
       "    </tr>\n",
       "    <tr>\n",
       "      <th>81</th>\n",
       "      <td>18 a 22 Anos</td>\n",
       "      <td>1.60</td>\n",
       "      <td>Femenino</td>\n",
       "      <td>153</td>\n",
       "      <td>Primer Ano</td>\n",
       "    </tr>\n",
       "    <tr>\n",
       "      <th>82</th>\n",
       "      <td>18 a 22 Anos</td>\n",
       "      <td>1.90</td>\n",
       "      <td>Masculino</td>\n",
       "      <td>210</td>\n",
       "      <td>Primer Ano</td>\n",
       "    </tr>\n",
       "  </tbody>\n",
       "</table>\n",
       "<p>83 rows × 5 columns</p>\n",
       "</div>"
      ],
      "text/plain": [
       "            Edad  Estatura       Sexo  Peso          Ano\n",
       "0   18 a 22 Anos      1.62   Femenino   114  Segundo Ano\n",
       "1   18 a 22 Anos      1.90  Masculino   210  Segundo Ano\n",
       "2   18 a 22 Anos      1.75  Masculino   133  Segundo Ano\n",
       "3   18 a 22 Anos      1.60   Femenino   130  Segundo Ano\n",
       "4   18 a 22 Anos      1.75  Masculino   155  Segundo Ano\n",
       "..           ...       ...        ...   ...          ...\n",
       "78  18 a 22 Anos      1.52   Femenino   122  Segundo Ano\n",
       "79  18 a 22 Anos      1.69  Masculino   135  Segundo Ano\n",
       "80  18 a 22 Anos      1.56   Femenino   130  Segundo Ano\n",
       "81  18 a 22 Anos      1.60   Femenino   153   Primer Ano\n",
       "82  18 a 22 Anos      1.90  Masculino   210   Primer Ano\n",
       "\n",
       "[83 rows x 5 columns]"
      ]
     },
     "execution_count": 49,
     "metadata": {},
     "output_type": "execute_result"
    }
   ],
   "source": [
    "v4"
   ]
  },
  {
   "cell_type": "code",
   "execution_count": 53,
   "id": "ecbbe60f",
   "metadata": {},
   "outputs": [],
   "source": [
    "# Graficos"
   ]
  },
  {
   "cell_type": "code",
   "execution_count": 54,
   "id": "5b73f45f",
   "metadata": {},
   "outputs": [
    {
     "data": {
      "text/plain": [
       "[Text(0.5, 0, 'Peso en Libras'),\n",
       " Text(0, 0.5, 'Edad'),\n",
       " Text(0.5, 1.0, 'Peso de los Estudiantes')]"
      ]
     },
     "execution_count": 54,
     "metadata": {},
     "output_type": "execute_result"
    },
    {
     "data": {
      "image/png": "[encoded data removed]",
      "text/plain": [
       "<Figure size 432x288 with 1 Axes>"
      ]
     },
     "metadata": {
      "needs_background": "light"
     },
     "output_type": "display_data"
    }
   ],
   "source": [
    "fig, ax = plt.subplots()\n",
    "ax.barh(v4.Ano, v4.Peso)\n",
    "ax.set(xlabel=\"Peso en Libras\", ylabel=\"Edad\",\n",
    "       title=\"Peso de los Estudiantes\")"
   ]
  },
  {
   "cell_type": "code",
   "execution_count": null,
   "id": "5fa1555b",
   "metadata": {},
   "outputs": [],
   "source": []
  }
 ],
 "metadata": {
  "kernelspec": {
   "display_name": "Python 3 (ipykernel)",
   "language": "python",
   "name": "python3"
  },
  "language_info": {
   "codemirror_mode": {
    "name": "ipython",
    "version": 3
   },
   "file_extension": ".py",
   "mimetype": "text/x-python",
   "name": "python",
   "nbconvert_exporter": "python",
   "pygments_lexer": "ipython3",
   "version": "3.9.12"
  }
 },
 "nbformat": 4,
 "nbformat_minor": 5
}
